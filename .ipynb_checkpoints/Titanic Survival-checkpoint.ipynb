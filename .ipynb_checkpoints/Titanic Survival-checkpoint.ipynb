{
 "cells": [
  {
   "cell_type": "code",
   "execution_count": 1,
   "metadata": {},
   "outputs": [],
   "source": [
    "import pandas as pd\n",
    "import numpy as np"
   ]
  },
  {
   "cell_type": "code",
   "execution_count": 2,
   "metadata": {},
   "outputs": [],
   "source": [
    "train_data = pd.read_csv('train.csv')\n",
    "test_data = pd.read_csv('test.csv')"
   ]
  },
  {
   "cell_type": "code",
   "execution_count": 3,
   "metadata": {},
   "outputs": [
    {
     "data": {
      "text/html": [
       "<div>\n",
       "<style scoped>\n",
       "    .dataframe tbody tr th:only-of-type {\n",
       "        vertical-align: middle;\n",
       "    }\n",
       "\n",
       "    .dataframe tbody tr th {\n",
       "        vertical-align: top;\n",
       "    }\n",
       "\n",
       "    .dataframe thead th {\n",
       "        text-align: right;\n",
       "    }\n",
       "</style>\n",
       "<table border=\"1\" class=\"dataframe\">\n",
       "  <thead>\n",
       "    <tr style=\"text-align: right;\">\n",
       "      <th></th>\n",
       "      <th>PassengerId</th>\n",
       "      <th>Survived</th>\n",
       "      <th>Pclass</th>\n",
       "      <th>Name</th>\n",
       "      <th>Sex</th>\n",
       "      <th>Age</th>\n",
       "      <th>SibSp</th>\n",
       "      <th>Parch</th>\n",
       "      <th>Ticket</th>\n",
       "      <th>Fare</th>\n",
       "      <th>Cabin</th>\n",
       "      <th>Embarked</th>\n",
       "    </tr>\n",
       "  </thead>\n",
       "  <tbody>\n",
       "    <tr>\n",
       "      <td>0</td>\n",
       "      <td>1</td>\n",
       "      <td>0</td>\n",
       "      <td>3</td>\n",
       "      <td>Braund, Mr. Owen Harris</td>\n",
       "      <td>male</td>\n",
       "      <td>22.0</td>\n",
       "      <td>1</td>\n",
       "      <td>0</td>\n",
       "      <td>A/5 21171</td>\n",
       "      <td>7.2500</td>\n",
       "      <td>NaN</td>\n",
       "      <td>S</td>\n",
       "    </tr>\n",
       "    <tr>\n",
       "      <td>1</td>\n",
       "      <td>2</td>\n",
       "      <td>1</td>\n",
       "      <td>1</td>\n",
       "      <td>Cumings, Mrs. John Bradley (Florence Briggs Th...</td>\n",
       "      <td>female</td>\n",
       "      <td>38.0</td>\n",
       "      <td>1</td>\n",
       "      <td>0</td>\n",
       "      <td>PC 17599</td>\n",
       "      <td>71.2833</td>\n",
       "      <td>C85</td>\n",
       "      <td>C</td>\n",
       "    </tr>\n",
       "    <tr>\n",
       "      <td>2</td>\n",
       "      <td>3</td>\n",
       "      <td>1</td>\n",
       "      <td>3</td>\n",
       "      <td>Heikkinen, Miss. Laina</td>\n",
       "      <td>female</td>\n",
       "      <td>26.0</td>\n",
       "      <td>0</td>\n",
       "      <td>0</td>\n",
       "      <td>STON/O2. 3101282</td>\n",
       "      <td>7.9250</td>\n",
       "      <td>NaN</td>\n",
       "      <td>S</td>\n",
       "    </tr>\n",
       "    <tr>\n",
       "      <td>3</td>\n",
       "      <td>4</td>\n",
       "      <td>1</td>\n",
       "      <td>1</td>\n",
       "      <td>Futrelle, Mrs. Jacques Heath (Lily May Peel)</td>\n",
       "      <td>female</td>\n",
       "      <td>35.0</td>\n",
       "      <td>1</td>\n",
       "      <td>0</td>\n",
       "      <td>113803</td>\n",
       "      <td>53.1000</td>\n",
       "      <td>C123</td>\n",
       "      <td>S</td>\n",
       "    </tr>\n",
       "    <tr>\n",
       "      <td>4</td>\n",
       "      <td>5</td>\n",
       "      <td>0</td>\n",
       "      <td>3</td>\n",
       "      <td>Allen, Mr. William Henry</td>\n",
       "      <td>male</td>\n",
       "      <td>35.0</td>\n",
       "      <td>0</td>\n",
       "      <td>0</td>\n",
       "      <td>373450</td>\n",
       "      <td>8.0500</td>\n",
       "      <td>NaN</td>\n",
       "      <td>S</td>\n",
       "    </tr>\n",
       "  </tbody>\n",
       "</table>\n",
       "</div>"
      ],
      "text/plain": [
       "   PassengerId  Survived  Pclass  \\\n",
       "0            1         0       3   \n",
       "1            2         1       1   \n",
       "2            3         1       3   \n",
       "3            4         1       1   \n",
       "4            5         0       3   \n",
       "\n",
       "                                                Name     Sex   Age  SibSp  \\\n",
       "0                            Braund, Mr. Owen Harris    male  22.0      1   \n",
       "1  Cumings, Mrs. John Bradley (Florence Briggs Th...  female  38.0      1   \n",
       "2                             Heikkinen, Miss. Laina  female  26.0      0   \n",
       "3       Futrelle, Mrs. Jacques Heath (Lily May Peel)  female  35.0      1   \n",
       "4                           Allen, Mr. William Henry    male  35.0      0   \n",
       "\n",
       "   Parch            Ticket     Fare Cabin Embarked  \n",
       "0      0         A/5 21171   7.2500   NaN        S  \n",
       "1      0          PC 17599  71.2833   C85        C  \n",
       "2      0  STON/O2. 3101282   7.9250   NaN        S  \n",
       "3      0            113803  53.1000  C123        S  \n",
       "4      0            373450   8.0500   NaN        S  "
      ]
     },
     "execution_count": 3,
     "metadata": {},
     "output_type": "execute_result"
    }
   ],
   "source": [
    "train_data.head()"
   ]
  },
  {
   "cell_type": "code",
   "execution_count": 4,
   "metadata": {},
   "outputs": [],
   "source": [
    "# Female = 1\n",
    "# Male = 0\n",
    "train_data[\"Gender\"] = np.where(train_data['Sex']=='male',0,1)"
   ]
  },
  {
   "cell_type": "code",
   "execution_count": 14,
   "metadata": {},
   "outputs": [
    {
     "data": {
      "text/html": [
       "<div>\n",
       "<style scoped>\n",
       "    .dataframe tbody tr th:only-of-type {\n",
       "        vertical-align: middle;\n",
       "    }\n",
       "\n",
       "    .dataframe tbody tr th {\n",
       "        vertical-align: top;\n",
       "    }\n",
       "\n",
       "    .dataframe thead th {\n",
       "        text-align: right;\n",
       "    }\n",
       "</style>\n",
       "<table border=\"1\" class=\"dataframe\">\n",
       "  <thead>\n",
       "    <tr style=\"text-align: right;\">\n",
       "      <th></th>\n",
       "      <th>Pclass</th>\n",
       "      <th>Age</th>\n",
       "      <th>SibSp</th>\n",
       "      <th>Parch</th>\n",
       "      <th>Fare</th>\n",
       "      <th>Gender</th>\n",
       "    </tr>\n",
       "  </thead>\n",
       "  <tbody>\n",
       "    <tr>\n",
       "      <td>0</td>\n",
       "      <td>3</td>\n",
       "      <td>34.5</td>\n",
       "      <td>0</td>\n",
       "      <td>0</td>\n",
       "      <td>7.8292</td>\n",
       "      <td>0</td>\n",
       "    </tr>\n",
       "    <tr>\n",
       "      <td>1</td>\n",
       "      <td>3</td>\n",
       "      <td>47.0</td>\n",
       "      <td>1</td>\n",
       "      <td>0</td>\n",
       "      <td>7.0000</td>\n",
       "      <td>1</td>\n",
       "    </tr>\n",
       "    <tr>\n",
       "      <td>2</td>\n",
       "      <td>2</td>\n",
       "      <td>62.0</td>\n",
       "      <td>0</td>\n",
       "      <td>0</td>\n",
       "      <td>9.6875</td>\n",
       "      <td>0</td>\n",
       "    </tr>\n",
       "    <tr>\n",
       "      <td>3</td>\n",
       "      <td>3</td>\n",
       "      <td>27.0</td>\n",
       "      <td>0</td>\n",
       "      <td>0</td>\n",
       "      <td>8.6625</td>\n",
       "      <td>0</td>\n",
       "    </tr>\n",
       "    <tr>\n",
       "      <td>4</td>\n",
       "      <td>3</td>\n",
       "      <td>22.0</td>\n",
       "      <td>1</td>\n",
       "      <td>1</td>\n",
       "      <td>12.2875</td>\n",
       "      <td>1</td>\n",
       "    </tr>\n",
       "  </tbody>\n",
       "</table>\n",
       "</div>"
      ],
      "text/plain": [
       "   Pclass   Age  SibSp  Parch     Fare  Gender\n",
       "0       3  34.5      0      0   7.8292       0\n",
       "1       3  47.0      1      0   7.0000       1\n",
       "2       2  62.0      0      0   9.6875       0\n",
       "3       3  27.0      0      0   8.6625       0\n",
       "4       3  22.0      1      1  12.2875       1"
      ]
     },
     "execution_count": 14,
     "metadata": {},
     "output_type": "execute_result"
    }
   ],
   "source": [
    "test_data.head()"
   ]
  },
  {
   "cell_type": "code",
   "execution_count": 6,
   "metadata": {},
   "outputs": [],
   "source": [
    "cols = [\"Name\",\"Sex\",\"Ticket\",\"Cabin\",\"Embarked\",\"PassengerId\"]\n",
    "tr_data = train_data.drop(cols,axis = 1)"
   ]
  },
  {
   "cell_type": "code",
   "execution_count": 7,
   "metadata": {},
   "outputs": [],
   "source": [
    "train_data = tr_data.dropna()"
   ]
  },
  {
   "cell_type": "code",
   "execution_count": 8,
   "metadata": {},
   "outputs": [],
   "source": [
    "test_data[\"Gender\"] = np.where(test_data['Sex']==\"male\",0,1)\n",
    "te_data = test_data.drop(cols,axis = 1)\n",
    "test_data = te_data.dropna()"
   ]
  },
  {
   "cell_type": "code",
   "execution_count": 9,
   "metadata": {},
   "outputs": [
    {
     "name": "stdout",
     "output_type": "stream",
     "text": [
      "[[  3.      34.5      0.       0.       7.8292   0.    ]\n",
      " [  3.      47.       1.       0.       7.       1.    ]\n",
      " [  2.      62.       0.       0.       9.6875   0.    ]\n",
      " ...\n",
      " [  3.      28.       0.       0.       7.775    1.    ]\n",
      " [  1.      39.       0.       0.     108.9      1.    ]\n",
      " [  3.      38.5      0.       0.       7.25     0.    ]]\n"
     ]
    }
   ],
   "source": [
    "test_data_x = test_data.to_numpy()\n",
    "print(test_data_x)"
   ]
  },
  {
   "cell_type": "code",
   "execution_count": null,
   "metadata": {},
   "outputs": [],
   "source": [
    "train_data.head()"
   ]
  },
  {
   "cell_type": "code",
   "execution_count": 10,
   "metadata": {},
   "outputs": [],
   "source": [
    "cols1 = [\"Survived\"] \n",
    "train_x = train_data.drop(cols1,axis = 1)\n",
    "cols2 = [\"Pclass\",\"Age\",\"SibSp\",\"Parch\",\"Fare\",\"Gender\"]\n",
    "train_y = train_data.drop(cols2,axis = 1)"
   ]
  },
  {
   "cell_type": "code",
   "execution_count": 11,
   "metadata": {},
   "outputs": [
    {
     "data": {
      "text/html": [
       "<div>\n",
       "<style scoped>\n",
       "    .dataframe tbody tr th:only-of-type {\n",
       "        vertical-align: middle;\n",
       "    }\n",
       "\n",
       "    .dataframe tbody tr th {\n",
       "        vertical-align: top;\n",
       "    }\n",
       "\n",
       "    .dataframe thead th {\n",
       "        text-align: right;\n",
       "    }\n",
       "</style>\n",
       "<table border=\"1\" class=\"dataframe\">\n",
       "  <thead>\n",
       "    <tr style=\"text-align: right;\">\n",
       "      <th></th>\n",
       "      <th>Pclass</th>\n",
       "      <th>Age</th>\n",
       "      <th>SibSp</th>\n",
       "      <th>Parch</th>\n",
       "      <th>Fare</th>\n",
       "      <th>Gender</th>\n",
       "    </tr>\n",
       "  </thead>\n",
       "  <tbody>\n",
       "    <tr>\n",
       "      <td>0</td>\n",
       "      <td>3</td>\n",
       "      <td>22.0</td>\n",
       "      <td>1</td>\n",
       "      <td>0</td>\n",
       "      <td>7.2500</td>\n",
       "      <td>0</td>\n",
       "    </tr>\n",
       "    <tr>\n",
       "      <td>1</td>\n",
       "      <td>1</td>\n",
       "      <td>38.0</td>\n",
       "      <td>1</td>\n",
       "      <td>0</td>\n",
       "      <td>71.2833</td>\n",
       "      <td>1</td>\n",
       "    </tr>\n",
       "    <tr>\n",
       "      <td>2</td>\n",
       "      <td>3</td>\n",
       "      <td>26.0</td>\n",
       "      <td>0</td>\n",
       "      <td>0</td>\n",
       "      <td>7.9250</td>\n",
       "      <td>1</td>\n",
       "    </tr>\n",
       "    <tr>\n",
       "      <td>3</td>\n",
       "      <td>1</td>\n",
       "      <td>35.0</td>\n",
       "      <td>1</td>\n",
       "      <td>0</td>\n",
       "      <td>53.1000</td>\n",
       "      <td>1</td>\n",
       "    </tr>\n",
       "    <tr>\n",
       "      <td>4</td>\n",
       "      <td>3</td>\n",
       "      <td>35.0</td>\n",
       "      <td>0</td>\n",
       "      <td>0</td>\n",
       "      <td>8.0500</td>\n",
       "      <td>0</td>\n",
       "    </tr>\n",
       "  </tbody>\n",
       "</table>\n",
       "</div>"
      ],
      "text/plain": [
       "   Pclass   Age  SibSp  Parch     Fare  Gender\n",
       "0       3  22.0      1      0   7.2500       0\n",
       "1       1  38.0      1      0  71.2833       1\n",
       "2       3  26.0      0      0   7.9250       1\n",
       "3       1  35.0      1      0  53.1000       1\n",
       "4       3  35.0      0      0   8.0500       0"
      ]
     },
     "execution_count": 11,
     "metadata": {},
     "output_type": "execute_result"
    }
   ],
   "source": [
    "train_x.head()"
   ]
  },
  {
   "cell_type": "code",
   "execution_count": 15,
   "metadata": {},
   "outputs": [],
   "source": [
    "normalized_train = (train_x-train_x.mean())/train_x.std()\n",
    "normalized_test = (test_data-test_data.mean())/test_data.std()"
   ]
  },
  {
   "cell_type": "code",
   "execution_count": 16,
   "metadata": {},
   "outputs": [
    {
     "name": "stdout",
     "output_type": "stream",
     "text": [
      "     Pclass       Age     SibSp     Parch      Fare    Gender\n",
      "0  0.910594 -0.530005  0.524203 -0.505541 -0.518614 -0.758520\n",
      "1 -1.475329  0.571430  0.524203 -0.505541  0.691412  1.316511\n",
      "2  0.910594 -0.254646 -0.551317 -0.505541 -0.505859  1.316511\n",
      "3 -1.475329  0.364911  0.524203 -0.505541  0.347805  1.316511\n",
      "4  0.910594  0.364911 -0.551317 -0.505541 -0.503497 -0.758520\n",
      "     Pclass       Age     SibSp     Parch      Fare    Gender\n",
      "0  1.013891  0.306194 -0.552436 -0.491376 -0.541461 -0.787825\n",
      "1  1.013891  1.192431  0.590416 -0.491376 -0.555004  1.265483\n",
      "2 -0.167792  2.255916 -0.552436 -0.491376 -0.511111 -0.787825\n",
      "3  1.013891 -0.225549 -0.552436 -0.491376 -0.527852 -0.787825\n",
      "4  1.013891 -0.580044  0.590416  0.740786 -0.468647  1.265483\n"
     ]
    }
   ],
   "source": [
    "print(normalized_train.head())\n",
    "print(normalized_test.head())"
   ]
  },
  {
   "cell_type": "code",
   "execution_count": 37,
   "metadata": {},
   "outputs": [],
   "source": [
    "train_data_x = normalized_train.to_numpy()\n",
    "train_data_y = train_y.to_numpy()"
   ]
  },
  {
   "cell_type": "code",
   "execution_count": 38,
   "metadata": {},
   "outputs": [
    {
     "data": {
      "text/plain": [
       "array([[ 0.91059403, -0.5300051 ,  0.52420266, -0.50554075, -0.51861431,\n",
       "        -0.75851961],\n",
       "       [-1.47532941,  0.57143041,  0.52420266, -0.50554075,  0.69141206,\n",
       "         1.31651104],\n",
       "       [ 0.91059403, -0.25464622, -0.55131659, -0.50554075, -0.50585895,\n",
       "         1.31651104],\n",
       "       ...,\n",
       "       [-1.47532941, -0.73652426, -0.55131659, -0.50554075, -0.08871143,\n",
       "         1.31651104],\n",
       "       [-1.47532941, -0.25464622, -0.55131659, -0.50554075, -0.08871143,\n",
       "        -0.75851961],\n",
       "       [ 0.91059403,  0.1583921 , -0.55131659, -0.50554075, -0.50916589,\n",
       "        -0.75851961]])"
      ]
     },
     "execution_count": 38,
     "metadata": {},
     "output_type": "execute_result"
    }
   ],
   "source": [
    "train_data_x"
   ]
  },
  {
   "cell_type": "code",
   "execution_count": 39,
   "metadata": {},
   "outputs": [
    {
     "name": "stdout",
     "output_type": "stream",
     "text": [
      "(714, 6)\n",
      "(714, 1)\n"
     ]
    }
   ],
   "source": [
    "print(train_data_x.shape)\n",
    "print(train_data_y.shape)"
   ]
  },
  {
   "cell_type": "code",
   "execution_count": 40,
   "metadata": {},
   "outputs": [],
   "source": [
    "train_data_x = train_data_x.T\n",
    "train_data_y = train_data_y.T"
   ]
  },
  {
   "cell_type": "code",
   "execution_count": 41,
   "metadata": {},
   "outputs": [],
   "source": [
    "n_x = 6\n",
    "n_h = 5\n",
    "n_y = 1"
   ]
  },
  {
   "cell_type": "code",
   "execution_count": 42,
   "metadata": {},
   "outputs": [],
   "source": [
    "def initialize_parameters(n_x,n_h,n_y):\n",
    "    \n",
    "    #np.random.seed(1)\n",
    "    \n",
    "    W1 = np.random.randn(n_h,n_x)*0.01\n",
    "    b1 = np.zeros((n_h,1))\n",
    "    W2 = np.random.randn(n_y,n_h)*0.01\n",
    "    b2 = np.zeros((n_y,1))\n",
    "    \n",
    "    parameters = {\"W1\":W1, \"b1\":b1, \"W2\":W2, \"b2\": b2}\n",
    "    \n",
    "    return parameters"
   ]
  },
  {
   "cell_type": "code",
   "execution_count": 43,
   "metadata": {},
   "outputs": [
    {
     "name": "stdout",
     "output_type": "stream",
     "text": [
      "{'W1': array([[-0.00351037, -0.00013656,  0.01215677,  0.01606299, -0.00396599,\n",
      "        -0.00469307],\n",
      "       [ 0.00458507,  0.0174978 , -0.00911634,  0.01509718, -0.0126742 ,\n",
      "        -0.00529044],\n",
      "       [-0.00631636, -0.00590922,  0.00861427,  0.01676781, -0.0074577 ,\n",
      "        -0.00610363],\n",
      "       [-0.0258152 , -0.00315098,  0.00860156, -0.00259519,  0.00655598,\n",
      "        -0.00018164],\n",
      "       [ 0.0104242 ,  0.01040773, -0.00248995,  0.00902699,  0.0077166 ,\n",
      "         0.01437201]]), 'b1': array([[0.],\n",
      "       [0.],\n",
      "       [0.],\n",
      "       [0.],\n",
      "       [0.]]), 'W2': array([[ 0.00594924, -0.01610767,  0.00534438,  0.0031905 ,  0.00248672]]), 'b2': array([[0.]])}\n"
     ]
    }
   ],
   "source": [
    "params = initialize_parameters(n_x,n_h,n_y)\n",
    "print(params)"
   ]
  },
  {
   "cell_type": "code",
   "execution_count": 44,
   "metadata": {},
   "outputs": [],
   "source": [
    "def linear_forward(A,W,b):\n",
    "    \n",
    "    Z = np.dot(W,A) + b\n",
    "    \n",
    "    cache = (A,W,b)\n",
    "    \n",
    "    return Z,cache"
   ]
  },
  {
   "cell_type": "code",
   "execution_count": 45,
   "metadata": {},
   "outputs": [],
   "source": [
    "def relu(Z):\n",
    "    return np.maximum(Z,0),Z\n",
    "\n",
    "def sigmoid(Z):\n",
    "    return (1/(1+np.exp(-Z))),Z"
   ]
  },
  {
   "cell_type": "code",
   "execution_count": 46,
   "metadata": {},
   "outputs": [],
   "source": [
    "def linear_activation_forward(A_prev,W,b,activation):\n",
    "    \n",
    "    if activation == \"relu\":\n",
    "        Z, linear_cache = linear_forward(A_prev,W,b)\n",
    "        A, activation_cache = relu(Z)\n",
    "    elif activation == \"sigmoid\":\n",
    "        Z, linear_cache = linear_forward(A_prev,W,b)\n",
    "        A, activation_cache = sigmoid(Z)\n",
    "        \n",
    "    cache = (linear_cache,activation_cache)\n",
    "        \n",
    "    return A,cache"
   ]
  },
  {
   "cell_type": "code",
   "execution_count": 47,
   "metadata": {},
   "outputs": [],
   "source": [
    "A1,cache1 = linear_activation_forward(train_data_x,params[\"W1\"],params[\"b1\"],\"relu\")\n",
    "A2,cache2 = linear_activation_forward(A1,params[\"W2\"],params[\"b2\"],\"sigmoid\")\n",
    "#print(A1.shape)\n",
    "#print(A2.shape)\n",
    "#print(A1)\n",
    "#print(A2)"
   ]
  },
  {
   "cell_type": "code",
   "execution_count": 48,
   "metadata": {},
   "outputs": [],
   "source": [
    "def L_model_forward(X,parameters):\n",
    "    \n",
    "    caches = []\n",
    "    A = X\n",
    "    L = len(parameters)//2\n",
    "    \n",
    "    for i in range(1,L):\n",
    "        A_prev = A\n",
    "        A, cache = linear_activation_forward(A_prev, parameters[\"W\"+str(i)], parameters[\"b\"+str(i)],\"relu\")\n",
    "        caches.append(cache)\n",
    "        \n",
    "    AL, cache = linear_activation_forward(A, parameters[\"W\"+str(L)],parameters[\"b\"+str(L)],\"sigmoid\")\n",
    "    caches.append(cache)\n",
    "    \n",
    "    assert(AL.shape == (1,X.shape[1]))\n",
    "    \n",
    "    return AL,caches\n"
   ]
  },
  {
   "cell_type": "code",
   "execution_count": 49,
   "metadata": {},
   "outputs": [],
   "source": [
    "def compute_cost(AL,Y):\n",
    "    \n",
    "    m = Y.shape[1]\n",
    "    \n",
    "    cost = -(np.multiply(Y,np.log(AL))+np.multiply(1-Y,np.log(1-AL)))\n",
    "    cost = np.sum(cost)/m\n",
    "    \n",
    "    cost = np.squeeze(cost)\n",
    "    \n",
    "    assert(cost.shape == ())\n",
    "    \n",
    "    return cost"
   ]
  },
  {
   "cell_type": "code",
   "execution_count": 50,
   "metadata": {},
   "outputs": [
    {
     "name": "stdout",
     "output_type": "stream",
     "text": [
      "0.6931078374398918\n"
     ]
    }
   ],
   "source": [
    "cost = compute_cost(A2,train_data_y)\n",
    "print(cost)"
   ]
  },
  {
   "cell_type": "code",
   "execution_count": 51,
   "metadata": {},
   "outputs": [
    {
     "name": "stdout",
     "output_type": "stream",
     "text": [
      "(1, 714)\n"
     ]
    }
   ],
   "source": [
    "dA2 = -np.divide(train_data_y,A2) + np.divide(1-train_data_y,1-A2)\n",
    "print(dA2.shape)"
   ]
  },
  {
   "cell_type": "code",
   "execution_count": 52,
   "metadata": {},
   "outputs": [],
   "source": [
    "def linear_backward(dZ,cache):\n",
    "    \n",
    "    (A_prev,W,b) = cache\n",
    "    \n",
    "    m = A_prev.shape[1]\n",
    "    \n",
    "    dW = np.dot(dZ, A_prev.T)/m\n",
    "    db = np.sum(dZ, axis = 1 , keepdims =True)/m\n",
    "    dA_prev = np.dot(W.T,dZ)\n",
    "    \n",
    "    assert(W.shape == dW.shape)\n",
    "    assert(b.shape == db.shape)\n",
    "    assert(A_prev.shape == dA_prev.shape)\n",
    "\n",
    "    return dA_prev,dW,db"
   ]
  },
  {
   "cell_type": "code",
   "execution_count": 53,
   "metadata": {},
   "outputs": [
    {
     "name": "stdout",
     "output_type": "stream",
     "text": [
      "(5, 714)\n",
      "(1, 5)\n",
      "(1, 1)\n"
     ]
    }
   ],
   "source": [
    "dA_prev, dW2, db2 = linear_backward(dA2,cache2[0])\n",
    "print(dA_prev.shape)\n",
    "print(dW2.shape)\n",
    "print(db2.shape)"
   ]
  },
  {
   "cell_type": "code",
   "execution_count": 54,
   "metadata": {},
   "outputs": [],
   "source": [
    "def relu_backward(dA,activation_cache):\n",
    "    \n",
    "    return np.maximum(dA,0)\n",
    "\n",
    "def sigmoid_backward(dA,activation_cache):\n",
    "    \n",
    "    return dA*(activation_cache)*(1-activation_cache)\n",
    "    "
   ]
  },
  {
   "cell_type": "code",
   "execution_count": 55,
   "metadata": {},
   "outputs": [],
   "source": [
    "def linear_activation_backward(dA,cache,activation):\n",
    "    \n",
    "    linear_cache,activation_cache = cache\n",
    "    \n",
    "    if activation == \"relu\":\n",
    "        dZ = relu_backward(dA,activation_cache)\n",
    "        dA_prev, dW, db = linear_backward(dZ,linear_cache)\n",
    "    elif activation == \"sigmoid\":\n",
    "        dZ = sigmoid_backward(dA,activation_cache)\n",
    "        dA_prev, dW, db = linear_backward(dZ,linear_cache)\n",
    "        \n",
    "    return dA_prev,dW,db"
   ]
  },
  {
   "cell_type": "code",
   "execution_count": 56,
   "metadata": {},
   "outputs": [],
   "source": [
    "def L_model_backward(AL,Y,caches):\n",
    "    \n",
    "    grads = {}\n",
    "    L = len(caches)\n",
    "    m = AL.shape[1]\n",
    "    Y = Y.reshape(AL.shape)\n",
    "    \n",
    "    dAL = -np.divide(Y,AL) + np.divide(1-Y,1-AL)\n",
    "    \n",
    "    current_cache = caches[L-1]\n",
    "    grads [\"dA\"+str(L-1)], grads[\"dW\"+str(L)], grads[\"db\"+str(L)] = linear_activation_backward(dAL,current_cache,\"sigmoid\")\n",
    "    \n",
    "    for l in reversed(range(L-1)):\n",
    "        current_cache = caches[l]\n",
    "        dA_prev_temp,dW_temp,db_temp = linear_activation_backward(grads[\"dA\"+str(L-1-l)],current_cache,\"relu\")\n",
    "        grads[\"dA\" + str(l)] = dA_prev_temp\n",
    "        grads[\"dW\" + str(l-1)] = dW_temp\n",
    "        grads[\"db\" + str(l-1)] = db_temp\n",
    "    \n",
    "    return grads\n",
    "    \n",
    "    \n",
    "    "
   ]
  },
  {
   "cell_type": "code",
   "execution_count": 57,
   "metadata": {},
   "outputs": [],
   "source": [
    "def update_parameters(parameters,grads,learning_rate):\n",
    "    L = len(parameters)//2\n",
    "    \n",
    "    for i in range(L):\n",
    "        parameters[\"W\"+str(i+1)] = parameters[\"W\"+str(i+1)] - learning_rate * grads[\"dW\"+str(i+1)]\n",
    "        parameters[\"b\"+str(i+1)] = parameters[\"b\"+str(i+1)] - learning_rate * grads[\"db\"+str(i+1)]\n",
    "    return parameters"
   ]
  },
  {
   "cell_type": "code",
   "execution_count": 58,
   "metadata": {},
   "outputs": [],
   "source": [
    "def two_layer_model(X,Y,layer_dims,learning_rate = 0.001,num_iterations=1000):\n",
    "    #np.random.seed(1)\n",
    "    (n_x,n_h,n_y) = layer_dims\n",
    "    grads = {}\n",
    "    costs = []\n",
    "    m = X.shape[1]\n",
    "    \n",
    "    parameters = initialize_parameters(n_x,n_h,n_y)\n",
    "    \n",
    "    W1 = parameters[\"W1\"]\n",
    "    b1 = parameters[\"b1\"]\n",
    "    W2 = parameters[\"W2\"]\n",
    "    b2 = parameters[\"b2\"]\n",
    "    \n",
    "    for i in range(num_iterations):\n",
    "        A1, cache1 = linear_activation_forward(X,W1,b1,\"relu\")\n",
    "        A2, cache2 = linear_activation_forward(A1,W2,b2,\"sigmoid\")\n",
    "        \n",
    "        cost = compute_cost(A2,Y)\n",
    "        \n",
    "        dA2 = -np.divide(Y,A2) + np.divide(1-Y,1-A2)\n",
    "        \n",
    "        dA1, dW2, db2 = linear_activation_backward(dA2,cache2,\"sigmoid\")\n",
    "        dA0, dW1, db1 = linear_activation_backward(dA1,cache1,\"relu\")\n",
    "        \n",
    "        grads[\"dW1\"] = dW1\n",
    "        grads[\"dW2\"] = dW2\n",
    "        grads[\"db1\"] = db1\n",
    "        grads[\"db2\"] = db2\n",
    "        \n",
    "        parameters = update_parameters(parameters,grads,learning_rate)\n",
    "        \n",
    "        W1 = parameters[\"W1\"] \n",
    "        W2 = parameters[\"W2\"]\n",
    "        b1 = parameters[\"b1\"]\n",
    "        b2 = parameters[\"b2\"]\n",
    "        \n",
    "        if i%100 == 0:\n",
    "            costs.append(cost)\n",
    "            print(cost)\n",
    "        \n",
    "    \n",
    "    return parameters\n",
    "    "
   ]
  },
  {
   "cell_type": "code",
   "execution_count": 174,
   "metadata": {},
   "outputs": [
    {
     "name": "stdout",
     "output_type": "stream",
     "text": [
      "(6, 8, 1)\n"
     ]
    }
   ],
   "source": [
    "layer_dims = (n_x,8,n_y)\n",
    "print(layer_dims)"
   ]
  },
  {
   "cell_type": "code",
   "execution_count": 175,
   "metadata": {},
   "outputs": [
    {
     "name": "stdout",
     "output_type": "stream",
     "text": [
      "0.6930918832117245\n",
      "0.693106300490445\n",
      "0.6931169438369258\n",
      "0.6931248002395163\n",
      "0.6931305997943967\n",
      "0.6931348810065489\n",
      "0.6931380413101479\n",
      "0.6931403740673366\n",
      "0.6931420958961279\n",
      "0.6931433667322658\n",
      "0.6931443046536031\n",
      "0.6931449968286126\n",
      "0.6931455076079114\n",
      "0.6931458844920317\n",
      "0.6931461625410575\n",
      "0.693146367613528\n",
      "0.6931465188558095\n",
      "0.6931466303575696\n",
      "0.6931467125263778\n",
      "0.6931467731429627\n",
      "0.6931468177659477\n",
      "0.6931468505618913\n",
      "0.69314687465652\n",
      "0.6931468923123332\n",
      "0.6931469052097229\n",
      "0.6931469145971625\n",
      "0.6931469213941028\n",
      "0.6931469262787062\n",
      "0.6931469297515209\n",
      "0.6931469321819981\n"
     ]
    }
   ],
   "source": [
    "params = two_layer_model(train_data_x,train_data_y,layer_dims,0.008,3000)"
   ]
  },
  {
   "cell_type": "code",
   "execution_count": 176,
   "metadata": {},
   "outputs": [],
   "source": [
    "def predict(parameters, X):\n",
    "    \n",
    "    #print(parameters.keys())\n",
    "    A,caches = L_model_forward(X,parameters)\n",
    "    \n",
    "    print(A)\n",
    "    predictions = (A>0.5)*1\n",
    "    \n",
    "    return predictions"
   ]
  },
  {
   "cell_type": "code",
   "execution_count": 177,
   "metadata": {},
   "outputs": [
    {
     "name": "stdout",
     "output_type": "stream",
     "text": [
      "[[0.50011832 0.50013214 0.50007469 0.50013502 0.50003573 0.50006142\n",
      "  0.50009477 0.50004045 0.50013128 0.50007466 0.50011936 0.500077\n",
      "  0.49996215 0.50008597 0.50005597 0.50007315 0.50007601 0.5000818\n",
      "  0.50007631 0.50008546 0.5001171  0.50004677 0.49992497 0.50004181\n",
      "  0.50008901 0.50001562 0.500137   0.50014158 0.50007424 0.50008108\n",
      "  0.5000881  0.50006785 0.50011996 0.50010423 0.50008322 0.50008598\n",
      "  0.50007169 0.50007403 0.50013087 0.50011915 0.50005497 0.50013784\n",
      "  0.50005289 0.50010001 0.50003607 0.50007077 0.50013044 0.50013381\n",
      "  0.50006308 0.50012498 0.50007984 0.49999332 0.5001468  0.50007891\n",
      "  0.499989   0.50013206 0.50011531 0.50008105 0.50006289 0.50011334\n",
      "  0.50006809 0.50007232 0.5000535  0.50012204 0.500142   0.50005633\n",
      "  0.50002271 0.50005599 0.50006599 0.50005223 0.50007682 0.50013943\n",
      "  0.50005364 0.4999678  0.50001658 0.50014786 0.50010432 0.50014232\n",
      "  0.50006928 0.50014601 0.50004176 0.50013738 0.50005485 0.50008206\n",
      "  0.50002734 0.50008052 0.50008819 0.50007149 0.50008328 0.50008577\n",
      "  0.50007414 0.4999444  0.50015141 0.50009269 0.50000967 0.5001195\n",
      "  0.50014739 0.50011929 0.50008643 0.50014473 0.5000652  0.50000702\n",
      "  0.50004109 0.50007612 0.50006319 0.50011915 0.50009452 0.50009975\n",
      "  0.50015629 0.50014187 0.50008902 0.50013993 0.50008153 0.50008108\n",
      "  0.50007861 0.50010782 0.50012584 0.50005751 0.50002978 0.50005258\n",
      "  0.50006013 0.50004164 0.50013351 0.49997827 0.49995739 0.50008601\n",
      "  0.50008484 0.50004948 0.4999828  0.50010081 0.50006025 0.50008579\n",
      "  0.50007208 0.50005073 0.49995002 0.5000894  0.50003899 0.50007302\n",
      "  0.50007945 0.50007414 0.50004941 0.5000956  0.50013771 0.5000844\n",
      "  0.50002593 0.50004724 0.50011467 0.50005658 0.50007819 0.50005545\n",
      "  0.50003284 0.50012009 0.50010666 0.50008362 0.50012426 0.50013811\n",
      "  0.50011743 0.49998252 0.50013295 0.50005625 0.50003712 0.5000058\n",
      "  0.5000825  0.50007663 0.50010475 0.5000696  0.50008484 0.50009041\n",
      "  0.50006512 0.50011506 0.50007079 0.5000844  0.50012607 0.500072\n",
      "  0.50012427 0.50013124 0.50008296 0.500088   0.50009047 0.49999095\n",
      "  0.50013302 0.50007263 0.50010522 0.50007492 0.50010868 0.50013042\n",
      "  0.50005199 0.50002617 0.50000731 0.5000951  0.50011926 0.50012412\n",
      "  0.50010522 0.50007792 0.50008498 0.50007068 0.50004876 0.50011919\n",
      "  0.50007725 0.50010426 0.50013576 0.50009621 0.50005317 0.50003427\n",
      "  0.50010894 0.50001586 0.50004039 0.50012978 0.50004139 0.50007617\n",
      "  0.500052   0.50012522 0.50007642 0.50007082 0.50007111 0.500111\n",
      "  0.50012261 0.50012181 0.50005619 0.50009413 0.50010358 0.5001301\n",
      "  0.50001486 0.50007282 0.50005027 0.49995528 0.50005481 0.50008927\n",
      "  0.50007975 0.50004176 0.50005075 0.50007136 0.50006013 0.50008153\n",
      "  0.5001332  0.50012992 0.50007219 0.50008067 0.50006586 0.50006665\n",
      "  0.50011745 0.50010543 0.5000727  0.50010366 0.5001273  0.50015074\n",
      "  0.50013678 0.50013357 0.50007191 0.50011007 0.50005485 0.5001041\n",
      "  0.50007463 0.500123   0.50003643 0.50012616 0.50012727 0.50007079\n",
      "  0.5000576  0.50012332 0.50011359 0.50012171 0.49996178 0.50011367\n",
      "  0.5000535  0.50015263 0.50007799 0.50011839 0.50014853 0.50014009\n",
      "  0.50012142 0.50000784 0.50008201 0.50012416 0.50005589 0.50008845\n",
      "  0.50009452 0.50007227 0.50013295 0.50009897 0.50011566 0.50001676\n",
      "  0.50006977 0.50010337 0.50012043 0.50005625 0.50014832 0.50010646\n",
      "  0.49997846 0.50015452 0.50001527 0.50003485 0.50004878 0.50013064\n",
      "  0.50013805 0.50014263 0.50012901 0.50007975 0.50013313 0.50005073\n",
      "  0.50008142 0.50009434 0.50007346 0.50007951 0.50010354 0.50005664\n",
      "  0.50004387 0.50013519 0.50013825 0.50004061 0.50011367 0.50014233\n",
      "  0.50010727 0.50007402 0.5001451  0.50012639 0.50004365 0.50007127\n",
      "  0.50006117 0.50005955 0.50009712 0.50012653 0.50002461 0.50006049\n",
      "  0.50008251 0.50011266 0.50008284 0.50014033 0.49999072 0.50012559\n",
      "  0.500074   0.50012951 0.50001056 0.50010487 0.50011347 0.5000844\n",
      "  0.50005369 0.50007397 0.50005208 0.50005471 0.50010551 0.50011992\n",
      "  0.50014064 0.50004398 0.50011328 0.50010915 0.50008444 0.50013207\n",
      "  0.50012432 0.50002027 0.50003943 0.50004291 0.50008094 0.5000955\n",
      "  0.50007826 0.500111   0.50012652 0.50013651 0.5001345  0.5001009\n",
      "  0.50006134 0.50006106 0.50011104 0.50010967 0.50013147 0.5000521\n",
      "  0.50002742 0.50006589 0.500072   0.50003848 0.50007809 0.50004799\n",
      "  0.5000266  0.50004796 0.50006471 0.50002801 0.50007781 0.50013453\n",
      "  0.50008199 0.50014033 0.5001024  0.50007103 0.50007731 0.50003765\n",
      "  0.49999376 0.49996406 0.50013484 0.50012943 0.5000445  0.50004948\n",
      "  0.50011195 0.50007354 0.50005171 0.5000218  0.50007424 0.50013043\n",
      "  0.50011501 0.50006577 0.50008579 0.50008208 0.50004486 0.50013951\n",
      "  0.50013069 0.50009161 0.50006684 0.50009358 0.50005197 0.50009666\n",
      "  0.50013329 0.50006551 0.50007725 0.50011695 0.50011377 0.50004384\n",
      "  0.50012872 0.50007136 0.50013786 0.50002029 0.50006589 0.50002461\n",
      "  0.50011617 0.5001289  0.50009786 0.5000646  0.50012463 0.50007819\n",
      "  0.50012676 0.50015086 0.50013453 0.50000412 0.50000253 0.50014693\n",
      "  0.50012615 0.50002951 0.50012684 0.50007403 0.50012285 0.50013072\n",
      "  0.50009799 0.50007077 0.50008154 0.50003427 0.50013653 0.50013562\n",
      "  0.50007208 0.50002181 0.50008874 0.50014608 0.50007961 0.49997881\n",
      "  0.50004381 0.50002037 0.50013491 0.5000967  0.500088   0.50008539\n",
      "  0.50011688 0.50013443 0.50004387 0.50011143 0.50013089 0.50004336\n",
      "  0.50010256 0.50014774 0.50005117 0.50011949 0.50007149 0.50003492\n",
      "  0.50013051 0.5000016  0.5001354  0.5000715  0.49999016 0.50013482\n",
      "  0.50010168 0.50001066 0.50009883 0.50009655 0.50004935 0.50011703\n",
      "  0.50008917 0.5001179  0.49992416 0.50003573 0.50008884 0.50006629\n",
      "  0.50007958 0.50011883 0.50009105 0.50011333 0.50014148 0.50009644\n",
      "  0.50007407 0.50008129 0.50003858 0.5000294  0.50013789 0.50006035\n",
      "  0.49999441 0.49999018 0.50010671 0.50001601 0.50012652 0.50004387\n",
      "  0.50013167 0.49993671 0.50007682 0.50013805 0.50002156 0.50006471\n",
      "  0.50013532 0.50007961 0.5000511  0.50008094 0.50013003 0.50007458\n",
      "  0.50008352 0.500119   0.50005175 0.50009857 0.50009155 0.5001052\n",
      "  0.50002125 0.50007365 0.50003249 0.50012447 0.50011768 0.50009452\n",
      "  0.50001348 0.50010095 0.50014268 0.50000932 0.50008238 0.50008226\n",
      "  0.50006461 0.5000842  0.4998927  0.50001185 0.50013727 0.50007802\n",
      "  0.50003369 0.50006996 0.50011336 0.50007124 0.5000816  0.50008228\n",
      "  0.50011585 0.50014173 0.50007671 0.50006252 0.50003883 0.50004018\n",
      "  0.50001066 0.50011641 0.50001599 0.50010872 0.50009872 0.50006994\n",
      "  0.50006297 0.5001091  0.50007371 0.50008295 0.50008427 0.50012007\n",
      "  0.50014446 0.50013458 0.50005349 0.50003989 0.5000794  0.50010394\n",
      "  0.50012819 0.50004099 0.50014134 0.50013225 0.50007631 0.50004394\n",
      "  0.50014287 0.50007753 0.50011076 0.50015771 0.50007916 0.50010794\n",
      "  0.50010644 0.50009857 0.50009857 0.5000605  0.49998013 0.50002059\n",
      "  0.50013667 0.50007159 0.50012081 0.50004662 0.50009321 0.50010812\n",
      "  0.50012331 0.50014367 0.50004647 0.50012656 0.50008704 0.5000425\n",
      "  0.50006861 0.50006882 0.50012611 0.50005476 0.50010782 0.50003848\n",
      "  0.50012966 0.5000184  0.50007628 0.50012199 0.50008776 0.5001306\n",
      "  0.50006242 0.50004425 0.50006726 0.49999924 0.50004553 0.50002899\n",
      "  0.50008224 0.50009196 0.50011305 0.50008629 0.50013517 0.50011269\n",
      "  0.50006236 0.50006254 0.50008368 0.50007276 0.50007302 0.500091\n",
      "  0.50012024 0.5000631  0.5000662  0.50013818 0.50006193 0.50004876\n",
      "  0.50005498 0.50007631 0.50010626 0.50011094 0.50009971 0.5000568\n",
      "  0.50004649 0.50007844 0.50008375 0.5000662  0.5001351  0.50006035\n",
      "  0.50003711 0.50007284 0.5000065  0.50004811 0.50008102 0.50013064\n",
      "  0.50001225 0.50005832 0.50013299 0.50005827 0.50008046 0.50006461\n",
      "  0.50007202 0.5001119  0.50012945 0.5000878  0.50012535 0.50006857\n",
      "  0.50008272 0.50013509 0.50007478 0.50008105 0.50007689 0.50011129\n",
      "  0.50014518 0.50003569 0.50008579 0.50001591 0.50003559 0.5000915\n",
      "  0.50005118 0.4999375  0.50006994 0.50015864 0.50010761 0.50006805\n",
      "  0.50011975 0.50006347 0.50001277 0.50012954 0.50015667 0.50013822\n",
      "  0.50009654 0.50009148 0.50011892 0.5001173  0.5001145  0.50006035\n",
      "  0.50013823 0.50009347 0.50000294 0.50011963 0.50008526 0.50007857\n",
      "  0.50007961 0.5001323  0.50011871 0.50004109 0.50008214 0.50008701\n",
      "  0.50006236 0.49993629 0.50009047 0.50015517 0.50011888 0.50004372]]\n"
     ]
    }
   ],
   "source": [
    "pred = predict(params,train_data_x)"
   ]
  },
  {
   "cell_type": "code",
   "execution_count": 178,
   "metadata": {},
   "outputs": [
    {
     "data": {
      "text/plain": [
       "{'W1': array([[ 6.68004832e-03, -2.36315645e-04, -3.86896891e-03,\n",
       "         -4.18178174e-03, -3.04746963e-03, -1.03538636e-02],\n",
       "        [-8.44634710e-03,  1.47952967e-03, -8.90767173e-04,\n",
       "         -1.01395673e-02,  1.98987720e-02,  1.05338246e-02],\n",
       "        [ 5.51112132e-03,  8.94887238e-03, -1.57905247e-02,\n",
       "         -2.12686657e-03, -1.05744080e-02, -1.24744648e-02],\n",
       "        [ 4.76878878e-03,  4.75507718e-04,  7.31893525e-03,\n",
       "          6.49006141e-03,  2.84550591e-03, -5.47006072e-03],\n",
       "        [ 5.96709774e-05, -4.50363725e-03, -1.04026898e-02,\n",
       "         -2.85974288e-04, -3.37169001e-03, -2.48735241e-03],\n",
       "        [ 9.94488333e-03,  2.81996775e-03, -7.62410412e-04,\n",
       "          3.67950571e-03, -4.19221057e-03,  8.43021546e-03],\n",
       "        [ 6.31517963e-03, -6.85095666e-03, -1.60674838e-02,\n",
       "         -2.30576532e-04, -5.84400353e-03, -1.12219376e-02],\n",
       "        [ 3.51287162e-03,  3.04940793e-03, -7.90328251e-03,\n",
       "         -5.23241021e-03,  7.46314065e-03, -1.21670815e-02]]),\n",
       " 'b1': array([[-7.05613942e-05],\n",
       "        [-1.22421298e-05],\n",
       "        [-1.01273939e-04],\n",
       "        [-5.79607937e-05],\n",
       "        [-7.25555910e-05],\n",
       "        [-1.09748266e-04],\n",
       "        [-6.51900139e-05],\n",
       "        [-8.05084558e-06]]),\n",
       " 'W2': array([[ 0.01049341, -0.00161195, -0.01388765, -0.00793402,  0.0108071 ,\n",
       "         -0.01500314, -0.00894673, -0.00112318]]),\n",
       " 'b2': array([[0.00060204]])}"
      ]
     },
     "execution_count": 178,
     "metadata": {},
     "output_type": "execute_result"
    }
   ],
   "source": [
    "params"
   ]
  },
  {
   "cell_type": "code",
   "execution_count": 179,
   "metadata": {},
   "outputs": [],
   "source": [
    "test_data_x = normalized_test.to_numpy()"
   ]
  },
  {
   "cell_type": "code",
   "execution_count": 180,
   "metadata": {},
   "outputs": [
    {
     "data": {
      "text/plain": [
       "(331, 6)"
      ]
     },
     "execution_count": 180,
     "metadata": {},
     "output_type": "execute_result"
    }
   ],
   "source": [
    "test_data_x.shape"
   ]
  },
  {
   "cell_type": "code",
   "execution_count": 181,
   "metadata": {},
   "outputs": [
    {
     "data": {
      "text/plain": [
       "(6, 714)"
      ]
     },
     "execution_count": 181,
     "metadata": {},
     "output_type": "execute_result"
    }
   ],
   "source": [
    "train_data_x.shape"
   ]
  },
  {
   "cell_type": "code",
   "execution_count": 182,
   "metadata": {},
   "outputs": [
    {
     "data": {
      "text/plain": [
       "685"
      ]
     },
     "execution_count": 182,
     "metadata": {},
     "output_type": "execute_result"
    }
   ],
   "source": [
    "np.count_nonzero(pred)"
   ]
  },
  {
   "cell_type": "code",
   "execution_count": 183,
   "metadata": {},
   "outputs": [
    {
     "data": {
      "text/plain": [
       "(1, 714)"
      ]
     },
     "execution_count": 183,
     "metadata": {},
     "output_type": "execute_result"
    }
   ],
   "source": [
    "pred.shape"
   ]
  },
  {
   "cell_type": "code",
   "execution_count": 184,
   "metadata": {},
   "outputs": [
    {
     "data": {
      "text/plain": [
       "(1, 714)"
      ]
     },
     "execution_count": 184,
     "metadata": {},
     "output_type": "execute_result"
    }
   ],
   "source": [
    "train_data_y.shape"
   ]
  },
  {
   "cell_type": "code",
   "execution_count": 185,
   "metadata": {},
   "outputs": [
    {
     "data": {
      "text/plain": [
       "0.43557422969187676"
      ]
     },
     "execution_count": 185,
     "metadata": {},
     "output_type": "execute_result"
    }
   ],
   "source": [
    "1-(714-np.count_nonzero((train_data_y==pred)*1))/714"
   ]
  },
  {
   "cell_type": "code",
   "execution_count": null,
   "metadata": {},
   "outputs": [],
   "source": []
  },
  {
   "cell_type": "code",
   "execution_count": null,
   "metadata": {},
   "outputs": [],
   "source": []
  }
 ],
 "metadata": {
  "kernelspec": {
   "display_name": "Python 3",
   "language": "python",
   "name": "python3"
  },
  "language_info": {
   "codemirror_mode": {
    "name": "ipython",
    "version": 3
   },
   "file_extension": ".py",
   "mimetype": "text/x-python",
   "name": "python",
   "nbconvert_exporter": "python",
   "pygments_lexer": "ipython3",
   "version": "3.6.8"
  }
 },
 "nbformat": 4,
 "nbformat_minor": 2
}
